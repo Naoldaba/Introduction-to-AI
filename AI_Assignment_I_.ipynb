{
  "cells": [
    {
      "cell_type": "code",
      "execution_count": null,
      "metadata": {
        "id": "1KZlclE8Xn8n"
      },
      "outputs": [],
      "source": []
    },
    {
      "cell_type": "code",
      "execution_count": 37,
      "metadata": {
        "id": "q5WPQ34pwP2J"
      },
      "outputs": [],
      "source": [
        "import random\n",
        "import time\n",
        "import matplotlib.pyplot as plt\n",
        "from collections import deque\n",
        "import numpy as np\n",
        "import pandas as pd\n",
        "from collections import defaultdict\n",
        "from tabulate import tabulate\n",
        "\n"
      ]
    },
    {
      "cell_type": "markdown",
      "metadata": {
        "id": "_NaWb0gES31G"
      },
      "source": [
        "#**1. Developing graph library**"
      ]
    },
    {
      "cell_type": "code",
      "execution_count": 38,
      "metadata": {
        "id": "XpyY2eo9W35d"
      },
      "outputs": [],
      "source": [
        "\n",
        "class AdjecencyListGraph:\n",
        "    def __init__(self, directed=False):\n",
        "        self.graph=defaultdict(set)\n",
        "        self.directed=directed\n",
        "        self.location={}\n",
        "        self.nodes=[]\n",
        "\n",
        "    def add_node(self, node,x=0,y=0):\n",
        "        if node not in self.graph:\n",
        "            self.graph[node]=set()\n",
        "            self.location[node]={\"x\":x,\"y\":y}\n",
        "            self.nodes.append(node)\n",
        "        else:\n",
        "            return 'Node already in the graph'\n",
        "\n",
        "    def add_edge(self, start_node, end_node, weight=0):\n",
        "        if self.directed:\n",
        "            self.graph[start_node].add((end_node, weight))\n",
        "\n",
        "        else:\n",
        "            self.graph[start_node].add((end_node, weight))\n",
        "            self.graph[end_node].add((start_node, weight))\n",
        "\n",
        "    def remove_node(self, node):\n",
        "        if node in self.graph:\n",
        "            del self.graph[node]\n",
        "            for vertex in self.graph:\n",
        "                new_neigbour=[]\n",
        "                for neighbour in self.graph[vertex]:\n",
        "                    if neighbour==node:\n",
        "                        continue\n",
        "                    else:\n",
        "                        new_neigbour.append(neighbour)\n",
        "                self.graph[vertex]=new_neigbour\n",
        "            return \"Node successfully deleted\"\n",
        "\n",
        "        return \"Node not found\"\n",
        "\n",
        "    def remove_edge(self, start, end):\n",
        "        if start not in self.graph and end not in self.graph:\n",
        "            return \"Edge not found\"\n",
        "\n",
        "        if start in self.graph:\n",
        "            if end in self.graph[start]:\n",
        "                self.graph[start].remove(end)\n",
        "\n",
        "            else:\n",
        "                return \"No such Node\"\n",
        "        if end in self.graph:\n",
        "            if start in self.graph[end]:\n",
        "                self.graph[end].remove(start)\n",
        "            else:\n",
        "                return \"No such Node\"\n",
        "\n",
        "        return \"Edge deleted successfully\"\n",
        "\n",
        "    def visualize_graph(self):\n",
        "        return self.graph\n",
        "\n",
        "\n",
        "def file_reader(file_path):\n",
        "    city_coordinates={}\n",
        "    with open(file_path, 'r') as file:\n",
        "\n",
        "        for line in file:\n",
        "            parts_arr = line.strip().split()\n",
        "            city_name = parts_arr[0]\n",
        "            latitude = float(parts_arr[1])\n",
        "            longitude = float(parts_arr[2])\n",
        "\n",
        "            city_coordinates[city_name] = (latitude, longitude)\n",
        "\n",
        "    return city_coordinates\n",
        "\n",
        "\n"
      ]
    },
    {
      "cell_type": "code",
      "execution_count": 39,
      "metadata": {
        "colab": {
          "base_uri": "https://localhost:8080/"
        },
        "id": "Nb_3PsQlXCCK",
        "outputId": "5be357aa-81a9-4065-9234-249208d95add"
      },
      "outputs": [
        {
          "name": "stdout",
          "output_type": "stream",
          "text": [
            "defaultdict(<class 'set'>, {'Oradea': {('Sibiu', 151), ('Zerind', 71)}, 'Zerind': {('Oradea', 71), ('Arad', 75)}, 'Arad': {('Timisoara', 118), ('Sibiu', 140), ('Zerind', 75)}, 'Timisoara': {('Arad', 118), ('Lugoj', 111)}, 'Lugoj': {('Timisoara', 111), ('Mehadia', 70)}, 'Mehadia': {('Lugoj', 70), ('Drobeta', 75)}, 'Drobeta': {('Craiova', 120), ('Mehadia', 75)}, 'Craiova': {('Rimnicu_Vilcea', 146), ('Pitesti', 138), ('Drobeta', 120)}, 'Sibiu': {('Fagaras', 99), ('Rimnicu_Vilcea', 80), ('Oradea', 151), ('Arad', 140)}, 'Rimnicu_Vilcea': {('Pitesti', 97), ('Craiova', 146), ('Sibiu', 80)}, 'Fagaras': {('Sibiu', 99), ('Bucharest', 211)}, 'Pitesti': {('Bucharest', 101), ('Craiova', 138), ('Rimnicu_Vilcea', 97)}, 'Giurgiu': set(), 'Bucharest': {('Urziceni', 85), ('Pitesti', 101), ('Fagaras', 211)}, 'Urziceni': {('Hirsova', 98), ('Bucharest', 85), ('Vaslui', 142)}, 'Eforie': {('Hirsova', 86)}, 'Hirsova': {('Eforie', 86), ('Urziceni', 98)}, 'Vaslui': {('Iasi', 92), ('Urziceni', 142)}, 'Iasi': {('Neamt', 87), ('Vaslui', 92)}, 'Neamt': {('Iasi', 87)}})\n"
          ]
        }
      ],
      "source": [
        "graph_model=AdjecencyListGraph()\n",
        "Romania_cities = file_reader('Romania_cities.txt')\n",
        "for city in Romania_cities:\n",
        "    graph_model.add_node(city,x=Romania_cities[city][0],y=Romania_cities[city][1])\n",
        "\n",
        "\n",
        "graph_model.add_edge('Oradea', 'Zerind', 71)\n",
        "graph_model.add_edge('Oradea', 'Sibiu', 151)\n",
        "\n",
        "graph_model.add_edge('Zerind', 'Arad', 75)\n",
        "\n",
        "graph_model.add_edge('Arad', 'Sibiu', 140)\n",
        "graph_model.add_edge('Arad', 'Timisoara', 118)\n",
        "\n",
        "graph_model.add_edge('Sibiu', 'Rimnicu_Vilcea', 80)\n",
        "graph_model.add_edge('Sibiu', 'Fagaras', 99)\n",
        "\n",
        "graph_model.add_edge('Fagaras', 'Bucharest', 211)\n",
        "\n",
        "graph_model.add_edge('Timisoara', 'Lugoj', 111)\n",
        "\n",
        "graph_model.add_edge('Lugoj', 'Mehadia', 70)\n",
        "\n",
        "graph_model.add_edge('Mehadia', 'Drobeta', 75)\n",
        "\n",
        "graph_model.add_edge('Drobeta', 'Craiova', 120)\n",
        "\n",
        "graph_model.add_edge('Craiova', 'Rimnicu_Vilcea', 146)\n",
        "graph_model.add_edge('Craiova', 'Pitesti', 138)\n",
        "\n",
        "graph_model.add_edge('Pitesti', 'Rimnicu_Vilcea', 97)\n",
        "graph_model.add_edge('Pitesti', 'Bucharest', 101)\n",
        "\n",
        "graph_model.add_edge('Bucharest', 'Urziceni', 85)\n",
        "\n",
        "graph_model.add_edge('Urziceni', 'Hirsova', 98)\n",
        "graph_model.add_edge('Urziceni', 'Vaslui', 142)\n",
        "\n",
        "graph_model.add_edge('Vaslui', 'Iasi', 92)\n",
        "\n",
        "graph_model.add_edge('Iasi', 'Neamt', 87)\n",
        "\n",
        "graph_model.add_edge('Hirsova', 'Eforie', 86)\n",
        "\n",
        "\n",
        "print(graph_model.visualize_graph())\n"
      ]
    },
    {
      "cell_type": "markdown",
      "metadata": {
        "id": "lA3E9a8-TS9Q"
      },
      "source": [
        "#**2. Analyzing different Searching Algorithms**"
      ]
    },
    {
      "cell_type": "markdown",
      "metadata": {
        "id": "cAy2BLFhx2Lm"
      },
      "source": [
        "## Here we are attempting to create a heuristic function that calculates the Euclidean distance from the goal.\n",
        "\n",
        "This function is called once when the pathfinding algorithm is invoked, and it returns a HashMap of heuristic values for every node relative to the given goal.\n",
        "\n",
        "``\n",
        "Since we are concerned with the graph distance, we can calculate precise results using the Great-circle distance, considering the fact that the Earth is a sphere. However, for simplicity, we use the Euclidean distance (straight-line distance). ``"
      ]
    },
    {
      "cell_type": "code",
      "execution_count": 40,
      "metadata": {
        "id": "WyPxto9ryGLz"
      },
      "outputs": [],
      "source": [
        "def compute_heuristic(G, goal):\n",
        "    heuristic = {}\n",
        "    for node in G.nodes:\n",
        "\n",
        "        heuristic[node] = ((G.location[node]['x'] - G.location[goal]['x'])**2 + (G.location[node]['y'] - G.location[goal]['y'])**2)**0.5\n",
        "    return heuristic"
      ]
    },
    {
      "cell_type": "markdown",
      "metadata": {
        "id": "OVa9iUePyra1"
      },
      "source": [
        "\n",
        "## Searching Algorithms\n",
        "\n",
        "The following cells contain implementations of various searching algorithms:\n",
        "\n",
        "- **Breadth-First Search (BFS)**: This algorithm explores all nodes at a given depth before moving on to the next level. It uses a queue to keep track of nodes to visit.\n",
        "\n",
        "- **Depth-First Search (DFS)**: This algorithm explores a path as far as possible before backtracking. It uses a stack to keep track of nodes to visit.\n",
        "\n",
        "- **A* Search**: This algorithm combines Dijkstra's algorithm with a heuristic function to estimate the distance to the goal node. It uses a priority queue to keep track of nodes to visit, prioritizing nodes with the lowest estimated total cost (distance traveled + heuristic value).\n",
        "\n",
        "- **Bidirectional Search**: is an algorithm that simultaneously explores the search space from the start node and the goal node. Instead of searching from only one direction (either from the start to the goal or vice versa), it starts the search from both ends and meets in the middle.\n",
        "\n",
        "- **Uniform Cost Search (UCS)**: It expands the node with the lowest path cost, disregarding any heuristics. It’s essentially Dijkstra's algorithm, focused on finding the least costly path in a graph with varying costs between nodes.\n",
        "\n",
        "- **Greedy Best-First Search**: This strategy prioritizes exploration based on a heuristic that estimates the cost from the current node to the goal. It does not consider the cost from the start node to the current node, focusing solely on the heuristic.\n",
        "\n",
        "These algorithms are used to find paths in graphs, which can represent a variety of real-world problems, such as finding the shortest route between two cities or the fastest way to solve a puzzle."
      ]
    },
    {
      "cell_type": "markdown",
      "metadata": {
        "id": "Qt_dL35FzCYU"
      },
      "source": [
        "#1. Breadth First Search"
      ]
    },
    {
      "cell_type": "code",
      "execution_count": 41,
      "metadata": {
        "id": "MaZsKZuNyufp"
      },
      "outputs": [],
      "source": [
        "def bfs(graph, start, end):\n",
        "  graph=graph.graph\n",
        "  def bfs_helper(graph, start, end):\n",
        "      queue = deque([(start, None)])\n",
        "      visited = set()\n",
        "      parent = {}\n",
        "\n",
        "      while queue:\n",
        "          node, prev = queue.popleft()\n",
        "          if node == end:\n",
        "              parent[node] = prev\n",
        "              return True, parent\n",
        "\n",
        "          if node not in visited:\n",
        "              visited.add(node)\n",
        "              parent[node] = prev\n",
        "\n",
        "              for neighbor in graph[node]:\n",
        "                  if neighbor not in visited:\n",
        "                      queue.append((neighbor, node))\n",
        "\n",
        "      return False, parent\n",
        "\n",
        "\n",
        "\n",
        "  found, parent = bfs_helper(graph, start, end)\n",
        "\n",
        "  if found:\n",
        "      path = [end]\n",
        "      current_node = end\n",
        "      while current_node != start:\n",
        "          current_node = parent[current_node]\n",
        "          path.append(current_node)\n",
        "      path.reverse()\n",
        "      return path\n",
        "  else:\n",
        "      return []"
      ]
    },
    {
      "cell_type": "markdown",
      "metadata": {
        "id": "twmXDEyezCE7"
      },
      "source": [
        "#2. Iterative Deepening"
      ]
    },
    {
      "cell_type": "code",
      "execution_count": 42,
      "metadata": {
        "id": "tNKaIxi53m0J"
      },
      "outputs": [],
      "source": [
        "def iterative_deepening(graph, start, end):\n",
        "  max_depth=len(graph.nodes)\n",
        "  graph=graph.graph\n",
        "  def iddfs(graph, start, end, max_depth):\n",
        "\n",
        "    def dls_helper(graph, start, end, depth, parent):\n",
        "        if depth == 0 and start == end:\n",
        "            return True\n",
        "        elif depth > 0:\n",
        "            for neighbor in graph[start]:\n",
        "                if neighbor not in parent:\n",
        "                    parent[neighbor] = start\n",
        "                    if dls_helper(graph, neighbor, end, depth - 1, parent):\n",
        "                        return True\n",
        "        return False\n",
        "\n",
        "    for depth in range(max_depth + 1):\n",
        "        parent = {start: None}\n",
        "        if dls_helper(graph, start, end, depth, parent):\n",
        "            path = [end]\n",
        "            while end != start:\n",
        "                end = parent[end]\n",
        "                path.append(end)\n",
        "            return path[::-1]\n",
        "    return None\n",
        "\n",
        "  path = iddfs(graph, start, end, max_depth)\n",
        "\n",
        "  if path:\n",
        "\n",
        "      return path\n",
        "  else:\n",
        "      return []\n"
      ]
    },
    {
      "cell_type": "markdown",
      "metadata": {
        "id": "AxNW6ZQJzBpR"
      },
      "source": [
        "#3. A* Searching"
      ]
    },
    {
      "cell_type": "code",
      "execution_count": 43,
      "metadata": {
        "id": "QOKDyyYA2h0X"
      },
      "outputs": [],
      "source": [
        "def astar(graph,start,goal):\n",
        "  def astar_helper(graph, start, goal):\n",
        "      heuristic = compute_heuristic(graph, goal)\n",
        "      graph=graph.graph\n",
        "      queue = PriorityQueue()\n",
        "      queue.put((0, start, None, 0))  # (priority, node, parent, cost)\n",
        "      visited = set()\n",
        "      parent = {}\n",
        "      cost_so_far = {}\n",
        "      cost_so_far[start] = 0\n",
        "\n",
        "      while not queue.empty():\n",
        "          p, node, prev, cost = queue.get()\n",
        "          if node == goal:\n",
        "              parent[node] = prev\n",
        "              return True, parent\n",
        "\n",
        "          if node not in visited:\n",
        "              visited.add(node)\n",
        "              parent[node] = prev\n",
        "\n",
        "              for neighbor, weight in graph[node]:\n",
        "                  new_cost = cost + weight\n",
        "                  if neighbor not in cost_so_far or new_cost < cost_so_far[neighbor]:\n",
        "                      cost_so_far[neighbor] = new_cost\n",
        "                      priority = new_cost + heuristic[neighbor]\n",
        "                      queue.put((priority, neighbor, node, new_cost))\n",
        "\n",
        "      return False, parent\n",
        "\n",
        "\n",
        "  found, parent = astar_helper(graph, start, goal)\n",
        "\n",
        "  if found:\n",
        "      path = [goal]\n",
        "      current_node = goal\n",
        "      while current_node != start:\n",
        "          current_node = parent[current_node]\n",
        "          path.append(current_node)\n",
        "      path.reverse()\n",
        "      return path\n",
        "  else:\n",
        "      return []\n"
      ]
    },
    {
      "cell_type": "markdown",
      "metadata": {
        "id": "bRgaC8eCYyd2"
      },
      "source": [
        "#4. Depth First Search"
      ]
    },
    {
      "cell_type": "code",
      "execution_count": 44,
      "metadata": {
        "id": "l9xg3ZdjSuaM"
      },
      "outputs": [],
      "source": [
        "def dfs(graph, start, end):\n",
        "    stack = [(start, None)]\n",
        "    visited = set()\n",
        "    parent = {}\n",
        "    graph=graph.graph\n",
        "\n",
        "    while stack:\n",
        "        node, prev = stack.pop()\n",
        "\n",
        "        if node == end:\n",
        "            parent[node] = prev\n",
        "            break\n",
        "\n",
        "        if node not in visited:\n",
        "            visited.add(node)\n",
        "            parent[node] = prev\n",
        "\n",
        "            for neighbor in graph[node]:\n",
        "                if neighbor not in visited:\n",
        "                    stack.append((neighbor, node))\n",
        "\n",
        "    if end in parent:\n",
        "        path = [end]\n",
        "        current_node = end\n",
        "        while current_node != start:\n",
        "            current_node = parent[current_node]\n",
        "            path.append(current_node)\n",
        "        path.reverse()\n",
        "        return path\n",
        "    else:\n",
        "        return []"
      ]
    },
    {
      "cell_type": "markdown",
      "metadata": {
        "id": "zWcHL4erYiFO"
      },
      "source": [
        "#5. Bidirectional Search"
      ]
    },
    {
      "cell_type": "code",
      "execution_count": 45,
      "metadata": {
        "id": "TmeeZ0bSX_qN"
      },
      "outputs": [],
      "source": [
        "from collections import deque\n",
        "\n",
        "def bidirectional_search(graph, start, goal):\n",
        "\n",
        "    graph=graph.graph\n",
        "\n",
        "    forward_queue = deque([start])\n",
        "    backward_queue = deque([goal])\n",
        "    forward_visited = set()\n",
        "    backward_visited = set()\n",
        "    forward_visited.add(start)\n",
        "    backward_visited.add(goal)\n",
        "\n",
        "    forward_parents = {start: None}\n",
        "    backward_parents = {goal: None}\n",
        "\n",
        "    def construct_path(forward_parents, backward_parents, common_node):\n",
        "        forward_path = []\n",
        "        node = common_node\n",
        "        while node:\n",
        "            forward_path.append(node)\n",
        "            node = forward_parents[node]\n",
        "\n",
        "        backward_path = []\n",
        "        node = common_node\n",
        "        while node:\n",
        "            backward_path.append(node)\n",
        "            node = backward_parents[node]\n",
        "\n",
        "        return forward_path[::-1] + backward_path[1:]\n",
        "\n",
        "    while forward_queue and backward_queue:\n",
        "        curr_forward = forward_queue.popleft()\n",
        "        for neighbor in graph[curr_forward]:\n",
        "            if neighbor not in forward_visited:\n",
        "                forward_visited.add(neighbor)\n",
        "                forward_parents[neighbor] = curr_forward\n",
        "                forward_queue.append(neighbor)\n",
        "\n",
        "                if neighbor in backward_visited:\n",
        "                    return construct_path(forward_parents, backward_parents, neighbor)\n",
        "\n",
        "        curr_backward = backward_queue.popleft()\n",
        "        for neighbor in graph[curr_backward]:\n",
        "            if neighbor not in backward_visited:\n",
        "                backward_visited.add(neighbor)\n",
        "                backward_parents[neighbor] = curr_backward\n",
        "                backward_queue.append(neighbor)\n",
        "\n",
        "                if neighbor in forward_visited:\n",
        "                    return construct_path(forward_parents, backward_parents, neighbor)\n",
        "\n",
        "    return []"
      ]
    },
    {
      "cell_type": "markdown",
      "metadata": {
        "id": "hSNMrpwsTJOM"
      },
      "source": [
        "#6. UCS\n"
      ]
    },
    {
      "cell_type": "code",
      "execution_count": 46,
      "metadata": {
        "id": "m07ErdYkTiE-"
      },
      "outputs": [],
      "source": [
        "from queue import PriorityQueue\n",
        "\n",
        "def ucs(graph, start, goal):\n",
        "    graph=graph.graph\n",
        "    def ucs_helper(graph, start, goal):\n",
        "        # Priority Queue stores nodes with their path costs\n",
        "        queue = PriorityQueue()\n",
        "        queue.put((0, start, None))  # (cumulative cost, node, parent node) so we are prioritize using cost\n",
        "        visited = set()\n",
        "        parent = {}\n",
        "\n",
        "        while not queue.empty():\n",
        "            cost, node, prev = queue.get()\n",
        "\n",
        "            if node == goal:\n",
        "                parent[node] = prev\n",
        "                return True, parent\n",
        "\n",
        "            if node not in visited:\n",
        "                visited.add(node)\n",
        "                parent[node] = prev\n",
        "\n",
        "                for neighbor, weight in graph[node]:\n",
        "                    if neighbor not in visited:\n",
        "                        # Update the cost to include the cost of getting to the neighbor\n",
        "                        total_cost = cost + weight\n",
        "                        queue.put((total_cost, neighbor, node))\n",
        "\n",
        "        return False, parent\n",
        "\n",
        "    found, parent = ucs_helper(graph, start, goal)\n",
        "\n",
        "    if found:\n",
        "        path = [goal]\n",
        "        current_node = goal\n",
        "        while current_node != start:\n",
        "            current_node = parent[current_node]\n",
        "            path.append(current_node)\n",
        "        path.reverse()\n",
        "        return path\n",
        "    else:\n",
        "        return []\n"
      ]
    },
    {
      "cell_type": "markdown",
      "metadata": {
        "id": "thZqlLg3Twyk"
      },
      "source": [
        "#7. Greedy Search"
      ]
    },
    {
      "cell_type": "code",
      "execution_count": 47,
      "metadata": {
        "id": "raucBr5uT74R"
      },
      "outputs": [],
      "source": [
        "from queue import PriorityQueue\n",
        "\n",
        "def greedy_search(graph, start, goal):\n",
        "    heuristic=compute_heuristic(graph,goal)\n",
        "    graph=graph.graph\n",
        "    def greedy_helper(graph, start, goal, heuristic):\n",
        "        queue = PriorityQueue()\n",
        "        queue.put((0, start, None))  # (heuristic value, node, parent node)\n",
        "        visited = set()\n",
        "        parent = {}\n",
        "\n",
        "        while not queue.empty():\n",
        "            _, node, prev = queue.get()\n",
        "\n",
        "            if node == goal:\n",
        "                parent[node] = prev\n",
        "                return True, parent\n",
        "\n",
        "            if node not in visited:\n",
        "                visited.add(node)\n",
        "                parent[node] = prev\n",
        "\n",
        "                for neighbor,cost in graph[node]:\n",
        "                    if neighbor not in visited:\n",
        "                        # Heuristic value of the neighbor\n",
        "                        h_value = heuristic[neighbor]\n",
        "                        queue.put((h_value, neighbor, node))\n",
        "\n",
        "        return False, parent\n",
        "\n",
        "    found, parent = greedy_helper(graph, start, goal, heuristic)\n",
        "\n",
        "    if found:\n",
        "        path = [goal]\n",
        "        current_node = goal\n",
        "        while current_node != start:\n",
        "            current_node = parent[current_node]\n",
        "            path.append(current_node)\n",
        "        path.reverse()\n",
        "        return path\n",
        "    else:\n",
        "        return []\n"
      ]
    },
    {
      "cell_type": "markdown",
      "metadata": {
        "id": "t9cVOOAlRcef"
      },
      "source": [
        "#BenchMark Function\n",
        "\n",
        "``This function accepts a graph and an algorithm as parameters, allowing it to calculate the average time taken for path searches. It iterates over multiple trials, executing the specified algorithm on the given graph each time to determine the average time taken. Additionally, it considers different settings of the graph, such as varying probabilities of edge creation, to provide a more comprehensive analysis of the algorithm's performance.``\n",
        "\n",
        "\n"
      ]
    },
    {
      "cell_type": "code",
      "execution_count": 48,
      "metadata": {
        "colab": {
          "base_uri": "https://localhost:8080/"
        },
        "id": "h-ryEWsvdvk_",
        "outputId": "159df008-9973-483b-fa6b-9a972cf84b24"
      },
      "outputs": [
        {
          "name": "stdout",
          "output_type": "stream",
          "text": [
            "{'bfs': 1.537799835205078e-05, 'dfs': 9.274482727050781e-06, 'ucs': 0.00020630359649658202, 'iterative_deepening': 7.021427154541016e-05, 'bidirectional_search': 1.430511474609375e-05, 'greedy_search': 0.0001536846160888672, 'astar': 0.0006971359252929688}\n"
          ]
        }
      ],
      "source": [
        "\n",
        "\n",
        "def benchmark_path_finding_algorithms(graph, algorithms, num_trials=10):\n",
        "    results = {algorithm.__name__: 0 for algorithm in algorithms}\n",
        "\n",
        "    for _ in range(num_trials):\n",
        "        # Randomly select two cities from the graph\n",
        "        start_city, goal_city = random.sample(graph.nodes, 2)\n",
        "\n",
        "        # Measure the time taken for the algorithm to find the path\n",
        "        for algorithm in algorithms:\n",
        "            start_time = time.time()\n",
        "            path = algorithm(graph, start_city, goal_city)\n",
        "            end_time = time.time()\n",
        "\n",
        "            results[algorithm.__name__] += end_time - start_time\n",
        "\n",
        "    for algorithm in results:\n",
        "        results[algorithm] /= num_trials\n",
        "\n",
        "    return results\n",
        "\n",
        "algorithms = [bfs, dfs, ucs, iterative_deepening, bidirectional_search, greedy_search, astar]\n",
        "results = benchmark_path_finding_algorithms(graph_model, algorithms)\n",
        "print(results)\n"
      ]
    },
    {
      "cell_type": "markdown",
      "metadata": {
        "id": "dXsxtYWsjmbI"
      },
      "source": [
        "**The results from the above benchmarking each searching algorithm:**\n"
      ]
    },
    {
      "cell_type": "markdown",
      "metadata": {
        "id": "pJv5HblBmUP7"
      },
      "source": [
        "| Algorithm            | Time (µs)           |\n",
        "|----------------------|---------------------|\n",
        "| bfs                  | 9.37 µs             |\n",
        "| dfs                  | 5.46 µs             |\n",
        "| ucs                  | 189.97 µs           |\n",
        "| iterative_deepening  | 48.26 µs            |\n",
        "| bidirectional_search | 9.89 µs             |\n",
        "| greedy_search        | 89.48 µs            |\n",
        "| astar                | 107.50 µs           |\n"
      ]
    },
    {
      "cell_type": "code",
      "execution_count": 49,
      "metadata": {
        "colab": {
          "base_uri": "https://localhost:8080/",
          "height": 620
        },
        "id": "WlKR7GXxeCKg",
        "outputId": "88ce09aa-b52e-4d92-aab2-f273de27a0c2"
      },
      "outputs": [
        {
          "data": {
            "image/png": "[encoded data removed]",
            "text/plain": [
              "<Figure size 1000x600 with 1 Axes>"
            ]
          },
          "metadata": {},
          "output_type": "display_data"
        }
      ],
      "source": [
        "\n",
        "algorithm_names = list(results.keys())\n",
        "average_times = list(results.values())\n",
        "\n",
        "plt.figure(figsize=(10, 6))\n",
        "plt.bar(algorithm_names, average_times, color='skyblue')\n",
        "plt.xlabel('Algorithm')\n",
        "plt.ylabel('Time (µs)')\n",
        "plt.title('Average Time Taken by Each Algorithm')\n",
        "plt.xticks(rotation=45)\n",
        "plt.grid(axis='y')\n",
        "plt.show()"
      ]
    },
    {
      "cell_type": "markdown",
      "metadata": {
        "id": "tuh4gFOrvRDX"
      },
      "source": [
        "########################          **End Of City Graph Analysis**########################################"
      ]
    },
    {
      "cell_type": "markdown",
      "metadata": {
        "id": "FLpU6839wdXv"
      },
      "source": [
        "## Defining Graph Generator:\n",
        "For a given number of nodes, n, it generates n nodes with a uniform probability of edge creation.\n"
      ]
    },
    {
      "cell_type": "code",
      "execution_count": 50,
      "metadata": {
        "id": "pDjmseFNw3zd"
      },
      "outputs": [],
      "source": [
        "\n",
        "def generate_random_graph(n, p):\n",
        "    G = AdjecencyListGraph()\n",
        "    for i in range(n):\n",
        "        G.add_node(i,x=random.uniform(0, 10), y=random.uniform(0, 10))\n",
        "\n",
        "    for i in range(n):\n",
        "        for j in range(i+1, n):\n",
        "            if random.random() <= p:\n",
        "                distance = ((G.location[i]['x'] - G.location[j]['x']) + (G.location[i]['y'] - G.location[j]['y']))\n",
        "                G.add_edge(i, j, weight=distance)\n",
        "\n",
        "    return G\n"
      ]
    },
    {
      "cell_type": "code",
      "execution_count": 51,
      "metadata": {
        "id": "Heupib3S95Mj"
      },
      "outputs": [],
      "source": [
        "\n",
        "def benchmark(graph, algorithm, n_trials=5):\n",
        "    trial_results = []\n",
        "    total_time = 0\n",
        "    total_length = 0\n",
        "    valid_trials = 0  # Count the number of trials where a valid path was found\n",
        "\n",
        "    for trial in range(1, n_trials + 1):\n",
        "        start_node = random.choice(list(graph.nodes))\n",
        "        goal_node = random.choice(list(graph.nodes))\n",
        "        start_time = time.time()\n",
        "        path = algorithm(graph, start_node, goal_node)\n",
        "        end_time = time.time()\n",
        "        time_taken = end_time - start_time\n",
        "\n",
        "        if path:  # If a path was found\n",
        "            total_time += time_taken\n",
        "            length = len(path)\n",
        "            total_length += length\n",
        "            trial_results.append({\"Trial\": trial, \"Time\": time_taken, \"Length\": length})\n",
        "            valid_trials += 1\n",
        "\n",
        "    if valid_trials > 0:  # Calculate average only if at least one valid path was found\n",
        "        avg_time = total_time / valid_trials\n",
        "        avg_length = total_length / valid_trials\n",
        "    else:\n",
        "        avg_time = None\n",
        "        avg_length = None\n",
        "\n",
        "    trial_results.append({\"Trial\": \"Avg\", \"Time\": avg_time, \"Length\": avg_length})\n",
        "    return avg_time, avg_length, pd.DataFrame(trial_results)\n",
        "# Example usage\n",
        "# results_df = benchmark(graph, algorithm, n_trials=5)\n"
      ]
    },
    {
      "cell_type": "markdown",
      "metadata": {
        "id": "ar1dN7qQzK8l"
      },
      "source": [
        "\n",
        "#Below are the specifications for generating graphs:\n",
        "\n",
        "* 10 nodes per graph with probabilities: 0.2, 0.4, 0.6, 0.8\n",
        "* 20 nodes per graph with probabilities: 0.2, 0.4, 0.6, 0.8\n",
        "* 30 nodes per graph with probabilities: 0.2, 0.4, 0.6, 0.8\n",
        "* 40 nodes per graph with probabilities: 0.2, 0.4, 0.6, 0.8\n",
        "\n",
        "\n",
        "> `` This means a total of 16 graphs can be generated.``\n",
        "\n",
        "\n",
        "\n",
        "\n",
        "\n"
      ]
    },
    {
      "cell_type": "code",
      "execution_count": 52,
      "metadata": {
        "id": "yn-Gv5E4zkx2"
      },
      "outputs": [],
      "source": [
        "\n",
        "n_values = [10, 20, 30, 40] #number of nodes\n",
        "p_values = [0.2,0.4,0.6,0.8] #probability"
      ]
    },
    {
      "cell_type": "markdown",
      "metadata": {
        "id": "lJXr7XyywhNO"
      },
      "source": [
        "`` using the the above two array we generete a new graph and we add it on graphs dictionary using`` **(number_of_node, probability)** ``as a key and the generated graph as a value``\n",
        "\n"
      ]
    },
    {
      "cell_type": "code",
      "execution_count": 53,
      "metadata": {
        "id": "6Dy2jArj0Cbo"
      },
      "outputs": [],
      "source": [
        "graphs = {}\n",
        "for n in n_values:\n",
        "    for p in p_values:\n",
        "        key = (n, p)\n",
        "        G = generate_random_graph(n, p)\n",
        "        graphs[key] = G\n"
      ]
    },
    {
      "cell_type": "markdown",
      "metadata": {
        "id": "RwE2RO39zmbz"
      },
      "source": [
        "## In this step, we initialize a list of algorithms and 16 graph settings. These settings allow us to select a specific graph from the set of generated graphs mentioned earlier."
      ]
    },
    {
      "cell_type": "code",
      "execution_count": 54,
      "metadata": {
        "id": "hbCghpWJqj0q"
      },
      "outputs": [],
      "source": [
        "algorithms= [ bfs,iterative_deepening,dfs,bidirectional_search,astar,ucs, greedy_search]\n",
        "graph_settings=[(i,j) for i in n_values for j in p_values]"
      ]
    },
    {
      "cell_type": "markdown",
      "metadata": {
        "id": "iU-X0Uso0As9"
      },
      "source": [
        "##Here we are collecting the average time and average distance of the algorithms in results dictionary\n",
        "\n",
        "``Note: The following section generates a table that displays the time elapsed for each algorithm across all 16 graphs, tested over 5 trials. Initially, the path length is set to 'inf,' indicating that the algorithm did not find a path between the randomly selected nodes``"
      ]
    },
    {
      "cell_type": "code",
      "execution_count": 55,
      "metadata": {
        "id": "s5TPnjhTISIF"
      },
      "outputs": [],
      "source": [
        "results = {}\n",
        "\n",
        "for algorithm in algorithms:\n",
        "    total_time = 0\n",
        "    total_length = 0\n",
        "    valid_trials = 0\n",
        "\n",
        "    for settings in graph_settings:\n",
        "        graph = graphs[settings]\n",
        "        avg_time, avg_length, _ = benchmark(graph, algorithm)\n",
        "\n",
        "        if avg_time is not None and avg_length is not None:  # Check if valid path was found\n",
        "            total_time += avg_time\n",
        "            total_length += avg_length\n",
        "            valid_trials += 1\n",
        "\n",
        "    if valid_trials > 0:  # Calculate overall average only if at least one valid path was found\n",
        "        overall_avg_time = total_time / valid_trials\n",
        "        overall_avg_length = total_length / valid_trials\n",
        "    else:\n",
        "        overall_avg_time = 0\n",
        "        overall_avg_length = 0\n",
        "\n",
        "    results[algorithm.__name__] = (overall_avg_time, overall_avg_length)\n"
      ]
    },
    {
      "cell_type": "code",
      "execution_count": 56,
      "metadata": {
        "colab": {
          "base_uri": "https://localhost:8080/",
          "height": 475
        },
        "id": "Skjwt_io8Qg5",
        "outputId": "6babb261-3e70-449e-9c0f-117ad7dca9c0"
      },
      "outputs": [
        {
          "data": {
            "image/png": "[encoded data removed]",
            "text/plain": [
              "<Figure size 1200x600 with 1 Axes>"
            ]
          },
          "metadata": {},
          "output_type": "display_data"
        }
      ],
      "source": [
        "# Calculate average time taken for each algorithm\n",
        "avg_times = {algorithm_name: [] for algorithm_name in algorithms}\n",
        "\n",
        "for algorithm_name in algorithms:\n",
        "    total_time = sum(results[algorithm_name.__name__][0] for _ in range(5))\n",
        "    avg_time = total_time / 5\n",
        "    avg_times[algorithm_name].append(avg_time)\n",
        "\n",
        "# Plotting\n",
        "plt.figure(figsize=(12, 6))\n",
        "bar_width = 0.2\n",
        "index = np.arange(len(algorithms))\n",
        "\n",
        "for i, (algorithm_name, avg_time_list) in enumerate(avg_times.items()):\n",
        "    plt.bar(index + i * bar_width, avg_time_list, bar_width, label=algorithm_name.__name__)\n",
        "\n",
        "plt.xlabel('Algorithms')\n",
        "plt.ylabel('Average Time Taken')\n",
        "plt.title('Average Time Taken by Each Algorithm for 5 Trials')\n",
        "plt.xticks(index + bar_width * (len(algorithms) - 1) / 2, [algorithm.__name__ for algorithm in algorithms], rotation=45)\n",
        "plt.legend()\n",
        "plt.tight_layout()\n",
        "plt.show()\n"
      ]
    },
    {
      "cell_type": "markdown",
      "metadata": {
        "id": "c96rQcjOulY7"
      },
      "source": [
        "**Insight on the above the above bar chart:**\n",
        "After analyzing different sets of graphs, we've found that the effectiveness of a search algorithm depends on the specific structure of the graph, as well as the locations of the starting and goal nodes. In some cases, the Iterative Deepening Depth-First Search (IDDFS) algorithm performs worse than the Depth-First Search (DFS), particularly when the goal node is deep inside the graph. This is because IDDFS may repeatedly explore paths that lead away from the goal before finding the optimal path. In contrast, DFS may find a suboptimal path more quickly if it happens to explore a path that leads directly to the goal.\n",
        "\n",
        "Additionally, the A* algorithm can sometimes take more time than DFS or Greedy algorithms. Therefore, it's challenging to definitively say that one algorithm is better for all graphs. Specifically, the effectiveness of Greedy and A* algorithms heavily depends on the heuristic function used\n",
        "\n",
        "Another important aspect to consider is that UCS (Uniform Cost Search) is not as fast as some other algorithms. This is because UCS prioritizes finding the path with the smallest cost, rather than simply finding the goal in the shortest path or time. Even if a shorter path exists that would lead to the goal faster, UCS will explore paths based on their cost, which may take longer in terms of time. It's essential to compare UCS's performance based on its ability to find the path with the smallest cost, rather than solely on its speed in reaching the goa\n"
      ]
    },
    {
      "cell_type": "markdown",
      "metadata": {
        "id": "jBPif4T03-M5"
      },
      "source": [
        "**What is the average time taken for each path search?**\n",
        "\n",
        "\n",
        "\n",
        "When calculating the average time and average length, there are two conditions to consider:\n",
        "\n",
        "1. In the first condition, when the graph is set with a low probability, the path may not be found by the algorithm, resulting in a path length of infinity. To avoid including these cases in the calculation of the average, we exclude them from the average calculation.\n",
        "\n",
        "2. In the second condition, when the algorithm successfully finds the correct path and provides the time taken, we include these instances in our average calculation.\"\n",
        "\n"
      ]
    },
    {
      "cell_type": "code",
      "execution_count": 57,
      "metadata": {
        "colab": {
          "base_uri": "https://localhost:8080/"
        },
        "id": "Wk2bfL9l4gUV",
        "outputId": "561f82c5-ff5a-48fb-a68d-a6cc1fe1ee04"
      },
      "outputs": [
        {
          "name": "stdout",
          "output_type": "stream",
          "text": [
            "+----------------------+-------------+--------------+\n",
            "| Algorithm            |    Avg Time |   Avg Length |\n",
            "+======================+=============+==============+\n",
            "| bfs                  | 4.98295e-06 |      1       |\n",
            "+----------------------+-------------+--------------+\n",
            "| iterative_deepening  | 3.8147e-06  |      1       |\n",
            "+----------------------+-------------+--------------+\n",
            "| dfs                  | 2.38419e-06 |      1       |\n",
            "+----------------------+-------------+--------------+\n",
            "| bidirectional_search | 3.37958e-05 |      3       |\n",
            "+----------------------+-------------+--------------+\n",
            "| astar                | 0.000424191 |      7.88333 |\n",
            "+----------------------+-------------+--------------+\n",
            "| ucs                  | 0.000395    |     11.5188  |\n",
            "+----------------------+-------------+--------------+\n",
            "| greedy_search        | 0.000138894 |      2.95    |\n",
            "+----------------------+-------------+--------------+\n"
          ]
        },
        {
          "data": {
            "image/png": "[encoded data removed]",
            "text/plain": [
              "<Figure size 1200x600 with 1 Axes>"
            ]
          },
          "metadata": {},
          "output_type": "display_data"
        }
      ],
      "source": [
        "# This draw a table\n",
        "table_data = []\n",
        "for item in results:\n",
        "    algorithm_name = item\n",
        "    avg_time = results[item][0]\n",
        "    avg_length = results[item][1]\n",
        "    table_data.append([algorithm_name, avg_time, avg_length])\n",
        "\n",
        "print(tabulate(table_data, headers=[\"Algorithm\", \"Avg Time\", \"Avg Length\"], tablefmt=\"grid\"))\n",
        "\n",
        "algorithms = ['bfs', 'iterative_deepening', 'dfs', 'bidirectional_search', 'astar', 'ucs', 'greedy_search']\n",
        "avg_times = [4.76837e-06, 3.8147e-06, 2.14577e-06, 9.47714e-06, 0.000277117, 0.000323519, 8.7747e-05]\n",
        "avg_lengths = [1, 1, 1, 2.5, 8.175, 13.25, 2.85]\n",
        "\n",
        "# Plotting\n",
        "plt.figure(figsize=(12, 6))\n",
        "plt.bar(algorithms, avg_times, color='skyblue', label='Avg Time')\n",
        "plt.bar(algorithms, avg_lengths, color='orange', label='Avg Length', alpha=0.7)\n",
        "plt.xlabel('Algorithm')\n",
        "plt.ylabel('Average Time / Average Length')\n",
        "plt.title('Average Time and Average Length of Each Algorithm')\n",
        "plt.xticks(rotation=45)\n",
        "plt.legend()\n",
        "plt.tight_layout()\n",
        "plt.show()\n"
      ]
    },
    {
      "cell_type": "markdown",
      "metadata": {
        "id": "Gd2vVyeVY3V5"
      },
      "source": [
        "**``Finally to see the effect of graph type on searching algorithm run and see the following code multiple times``**"
      ]
    },
    {
      "cell_type": "code",
      "execution_count": 58,
      "metadata": {
        "id": "94lBZ8qLOCme"
      },
      "outputs": [],
      "source": [
        "\n",
        "def showMeTheEffect():\n",
        "    graphs = {}\n",
        "    for n in n_values:\n",
        "        for p in p_values:\n",
        "            key = (n, p)\n",
        "            G = generate_random_graph(n, p)\n",
        "            print(\"He\")\n",
        "            graphs[key] = G\n",
        "\n",
        "    results = {}\n",
        "\n",
        "    for algorithm in algorithms:\n",
        "        total_time = 0\n",
        "        total_length = 0\n",
        "        valid_trials = 0\n",
        "\n",
        "        for settings in graph_settings:\n",
        "            graph = graphs[settings]\n",
        "            avg_time, avg_length, _ = benchmark(graph, algorithm)\n",
        "\n",
        "            if avg_time is not None and avg_length is not None:  # Check if valid path was found\n",
        "                total_time += avg_time\n",
        "                total_length += avg_length\n",
        "                valid_trials += 1\n",
        "\n",
        "        if valid_trials > 0:  # Calculate overall average only if at least one valid path was found\n",
        "            overall_avg_time = total_time / valid_trials\n",
        "            overall_avg_length = total_length / valid_trials\n",
        "        else:\n",
        "            overall_avg_time = None\n",
        "            overall_avg_length = None\n",
        "\n",
        "        results[algorithm.__name__] = (overall_avg_time, overall_avg_length)\n",
        "\n",
        "    # Extract average times and lengths for plotting\n",
        "    avg_times = [results[algorithm_name][0] for algorithm_name in results.keys()]\n",
        "    avg_lengths = [results[algorithm_name][1]*10**-5 for algorithm_name in results.keys()]\n",
        "\n",
        "    # Plotting\n",
        "    plt.figure(figsize=(12, 6))\n",
        "    plt.plot(results.keys(), avg_times, marker='o', label='Avg Time')\n",
        "    plt.plot(results.keys(), avg_lengths, marker='o', label='Avg Length')\n",
        "    plt.xlabel('Algorithm')\n",
        "    plt.ylabel('Average Time / Average Length')\n",
        "    plt.title('Average Time and Average Length of Each Algorithm')\n",
        "    plt.xticks(rotation=45)\n",
        "    plt.legend()\n",
        "    plt.tight_layout()\n",
        "    plt.show()\n",
        "\n"
      ]
    },
    {
      "cell_type": "code",
      "execution_count": 59,
      "metadata": {
        "colab": {
          "base_uri": "https://localhost:8080/",
          "height": 141
        },
        "id": "JCvTrP25aGC9",
        "outputId": "8f512d63-72e6-49f3-85b6-6954abb44b6b"
      },
      "outputs": [
        {
          "name": "stdout",
          "output_type": "stream",
          "text": [
            "He\n",
            "He\n",
            "He\n",
            "He\n",
            "He\n",
            "He\n",
            "He\n",
            "He\n",
            "He\n",
            "He\n",
            "He\n",
            "He\n",
            "He\n",
            "He\n",
            "He\n",
            "He\n"
          ]
        },
        {
          "ename": "TypeError",
          "evalue": "'str' object is not callable",
          "output_type": "error",
          "traceback": [
            "\u001b[0;31m---------------------------------------------------------------------------\u001b[0m",
            "\u001b[0;31mTypeError\u001b[0m                                 Traceback (most recent call last)",
            "Cell \u001b[0;32mIn[59], line 1\u001b[0m\n\u001b[0;32m----> 1\u001b[0m \u001b[43mshowMeTheEffect\u001b[49m\u001b[43m(\u001b[49m\u001b[43m)\u001b[49m\n",
            "Cell \u001b[0;32mIn[58], line 19\u001b[0m, in \u001b[0;36mshowMeTheEffect\u001b[0;34m()\u001b[0m\n\u001b[1;32m     17\u001b[0m \u001b[38;5;28;01mfor\u001b[39;00m settings \u001b[38;5;129;01min\u001b[39;00m graph_settings:\n\u001b[1;32m     18\u001b[0m     graph \u001b[38;5;241m=\u001b[39m graphs[settings]\n\u001b[0;32m---> 19\u001b[0m     avg_time, avg_length, _ \u001b[38;5;241m=\u001b[39m \u001b[43mbenchmark\u001b[49m\u001b[43m(\u001b[49m\u001b[43mgraph\u001b[49m\u001b[43m,\u001b[49m\u001b[43m \u001b[49m\u001b[43malgorithm\u001b[49m\u001b[43m)\u001b[49m\n\u001b[1;32m     21\u001b[0m     \u001b[38;5;28;01mif\u001b[39;00m avg_time \u001b[38;5;129;01mis\u001b[39;00m \u001b[38;5;129;01mnot\u001b[39;00m \u001b[38;5;28;01mNone\u001b[39;00m \u001b[38;5;129;01mand\u001b[39;00m avg_length \u001b[38;5;129;01mis\u001b[39;00m \u001b[38;5;129;01mnot\u001b[39;00m \u001b[38;5;28;01mNone\u001b[39;00m:  \u001b[38;5;66;03m# Check if valid path was found\u001b[39;00m\n\u001b[1;32m     22\u001b[0m         total_time \u001b[38;5;241m+\u001b[39m\u001b[38;5;241m=\u001b[39m avg_time\n",
            "Cell \u001b[0;32mIn[51], line 11\u001b[0m, in \u001b[0;36mbenchmark\u001b[0;34m(graph, algorithm, n_trials)\u001b[0m\n\u001b[1;32m      9\u001b[0m goal_node \u001b[38;5;241m=\u001b[39m random\u001b[38;5;241m.\u001b[39mchoice(\u001b[38;5;28mlist\u001b[39m(graph\u001b[38;5;241m.\u001b[39mnodes))\n\u001b[1;32m     10\u001b[0m start_time \u001b[38;5;241m=\u001b[39m time\u001b[38;5;241m.\u001b[39mtime()\n\u001b[0;32m---> 11\u001b[0m path \u001b[38;5;241m=\u001b[39m \u001b[43malgorithm\u001b[49m\u001b[43m(\u001b[49m\u001b[43mgraph\u001b[49m\u001b[43m,\u001b[49m\u001b[43m \u001b[49m\u001b[43mstart_node\u001b[49m\u001b[43m,\u001b[49m\u001b[43m \u001b[49m\u001b[43mgoal_node\u001b[49m\u001b[43m)\u001b[49m\n\u001b[1;32m     12\u001b[0m end_time \u001b[38;5;241m=\u001b[39m time\u001b[38;5;241m.\u001b[39mtime()\n\u001b[1;32m     13\u001b[0m time_taken \u001b[38;5;241m=\u001b[39m end_time \u001b[38;5;241m-\u001b[39m start_time\n",
            "\u001b[0;31mTypeError\u001b[0m: 'str' object is not callable"
          ]
        }
      ],
      "source": [
        "showMeTheEffect()"
      ]
    },
    {
      "cell_type": "markdown",
      "metadata": {
        "id": "OBCtc7gd8Wme"
      },
      "source": [
        "Here thire is one Data which genereted from the graph we generate rondmely\n",
        "\n",
        "`` TO show the effect the time elapse on the graph we scale down the length so we multiplay each average length with 10^5``"
      ]
    },
    {
      "cell_type": "code",
      "execution_count": null,
      "metadata": {
        "colab": {
          "base_uri": "https://localhost:8080/",
          "height": 475
        },
        "id": "O-Km2J4XnaI8",
        "outputId": "865be611-89c3-43a6-bec1-1b23a9434266"
      },
      "outputs": [
        {
          "data": {
            "image/png": "[encoded data removed]",
            "text/plain": [
              "<Figure size 1200x600 with 1 Axes>"
            ]
          },
          "metadata": {},
          "output_type": "display_data"
        }
      ],
      "source": [
        "algorithms_name = ['bfs', 'iterative_deepening', 'dfs', 'bidirectional_search', 'astar', 'ucs', 'greedy_search']\n",
        "avg_times = [4.76837e-06, 3.8147e-06, 2.14577e-06, 9.47714e-06, 0.000277117, 0.000323519, 8.7747e-05]\n",
        "avg_lengths = [1, 1, 1, 2.5, 8.175, 13.25, 2.85]\n",
        "\n",
        "# Scale down the average lengths for better visibility\n",
        "scaled_avg_lengths = [length / 10 for length in avg_lengths]\n",
        "\n",
        "# Plotting\n",
        "plt.figure(figsize=(12, 6))\n",
        "plt.plot(algorithms_name, avg_times, marker='o', color='skyblue', label='Avg Time')\n",
        "plt.plot(algorithms_name, scaled_avg_lengths, marker='o', color='orange', label='Scaled Avg Length')\n",
        "plt.yscale('log')  # Use logarithmic scale for y-axis\n",
        "plt.xlabel('Algorithm')\n",
        "plt.ylabel('Average Time / Scaled Average Length')\n",
        "plt.title('Average Time and Scaled Average Length of Each Algorithm')\n",
        "plt.xticks(rotation=45)\n",
        "plt.legend()\n",
        "plt.tight_layout()\n",
        "plt.show()"
      ]
    },
    {
      "cell_type": "markdown",
      "metadata": {},
      "source": [
        "QUESTION 3"
      ]
    },
    {
      "cell_type": "markdown",
      "metadata": {},
      "source": [
        "This code defines a class `AdjacencyListGraph` for representing a graph using an adjacency list. It includes methods for adding and removing nodes and edges, as well as visualizing the graph. \n",
        "\n",
        "The `file_reader` function reads city coordinates from a file.\n",
        "\n",
        "The script then:\n",
        "1. Creates an instance of `AdjacencyListGraph`.\n",
        "2. Populates it with nodes and edges representing cities and roads in Romania using the data read from the file.\n",
        "3. Prints the resulting graph.\n"
      ]
    },
    {
      "cell_type": "code",
      "execution_count": null,
      "metadata": {
        "colab": {
          "base_uri": "https://localhost:8080/",
          "height": 332
        },
        "id": "xXRxjwDz8nA7",
        "outputId": "447de788-25a8-4655-8035-a1476d6a3a86"
      },
      "outputs": [
        {
          "name": "stdout",
          "output_type": "stream",
          "text": [
            "defaultdict(<class 'set'>, {'Oradea': {('Sibiu', 151), ('Zerind', 71)}, 'Zerind': {('Oradea', 71), ('Arad', 75)}, 'Arad': {('Timisoara', 118), ('Sibiu', 140), ('Zerind', 75)}, 'Timisoara': {('Arad', 118), ('Lugoj', 111)}, 'Lugoj': {('Timisoara', 111), ('Mehadia', 70)}, 'Mehadia': {('Lugoj', 70), ('Drobeta', 75)}, 'Drobeta': {('Craiova', 120), ('Mehadia', 75)}, 'Craiova': {('Rimnicu_Vilcea', 146), ('Pitesti', 138), ('Drobeta', 120)}, 'Sibiu': {('Fagaras', 99), ('Rimnicu_Vilcea', 80), ('Oradea', 151), ('Arad', 140)}, 'Rimnicu_Vilcea': {('Pitesti', 97), ('Craiova', 146), ('Sibiu', 80)}, 'Fagaras': {('Sibiu', 99), ('Bucharest', 211)}, 'Pitesti': {('Bucharest', 101), ('Craiova', 138), ('Rimnicu_Vilcea', 97)}, 'Giurgiu': {('Bucharest', 90)}, 'Bucharest': {('Urziceni', 85), ('Pitesti', 101), ('Fagaras', 211), ('Giurgiu', 90)}, 'Urziceni': {('Hirsova', 98), ('Bucharest', 85), ('Vaslui', 142)}, 'Eforie': {('Hirsova', 86)}, 'Hirsova': {('Eforie', 86), ('Urziceni', 98)}, 'Vaslui': {('Iasi', 92), ('Urziceni', 142)}, 'Iasi': {('Neamt', 87), ('Vaslui', 92)}, 'Neamt': {('Iasi', 87)}})\n"
          ]
        }
      ],
      "source": [
        "from collections import defaultdict\n",
        "\n",
        "class AdjecencyListGraph:\n",
        "    def __init__(self, directed=False):\n",
        "        self.graph = defaultdict(set)\n",
        "        self.directed = directed\n",
        "\n",
        "    def add_node(self, node):\n",
        "        if node not in self.graph:\n",
        "            self.graph[node]=set()\n",
        "        else:\n",
        "            return 'Node already in the graph'\n",
        "\n",
        "    def add_edge(self, start_node, end_node, weight=0):\n",
        "        if self.directed:\n",
        "            self.graph[start_node].add((end_node, weight))\n",
        "        else:\n",
        "            self.graph[start_node].add((end_node, weight))\n",
        "            self.graph[end_node].add((start_node, weight))\n",
        "\n",
        "    def remove_node(self, node):\n",
        "        if node in self.graph:\n",
        "            del self.graph[node]\n",
        "            for vertex in self.graph:\n",
        "                new_neigbour=[]\n",
        "                for neighbour in self.graph[vertex]:\n",
        "                    if neighbour==node:\n",
        "                        continue\n",
        "                    else:\n",
        "                        new_neigbour.append(neighbour)\n",
        "                self.graph[vertex]=new_neigbour\n",
        "            return \"Node successfully deleted\"\n",
        "\n",
        "        return \"Node not found\"\n",
        "\n",
        "    def remove_edge(self, start, end):\n",
        "        if start not in self.graph and end not in self.graph:\n",
        "            return \"Edge not found\"\n",
        "\n",
        "        if start in self.graph:\n",
        "            if end in self.graph[start]:\n",
        "                self.graph[start].remove(end)\n",
        "\n",
        "            else:\n",
        "                return \"No such Node\"\n",
        "        if end in self.graph:\n",
        "            if start in self.graph[end]:\n",
        "                self.graph[end].remove(start)\n",
        "            else:\n",
        "                return \"No such Node\"\n",
        "\n",
        "        return \"Edge deleted successfully\"\n",
        "\n",
        "    def visualize_graph(self):\n",
        "        return self.graph\n",
        "    def getGraphAsDictionary(self):\n",
        "        return self.graph\n",
        "\n",
        "\n",
        "def file_reader(file_path):\n",
        "    city_coordinates={}\n",
        "    with open(file_path, 'r') as file:\n",
        "\n",
        "        for line in file:\n",
        "            parts_arr = line.strip().split()\n",
        "            city_name = parts_arr[0]\n",
        "            latitude = float(parts_arr[1])\n",
        "            longitude = float(parts_arr[2])\n",
        "\n",
        "            city_coordinates[city_name] = (latitude, longitude)\n",
        "\n",
        "    return city_coordinates\n",
        "\n",
        "\n",
        "graph_model=AdjecencyListGraph()\n",
        "Romania_cities = file_reader('Romania_cities.txt')\n",
        "for city in Romania_cities:\n",
        "    graph_model.add_node(city)\n",
        "\n",
        "graph_model.add_edge('Oradea', 'Zerind', 71)\n",
        "graph_model.add_edge('Oradea', 'Sibiu', 151)\n",
        "\n",
        "graph_model.add_edge('Zerind', 'Arad', 75)\n",
        "\n",
        "graph_model.add_edge('Arad', 'Sibiu', 140)\n",
        "graph_model.add_edge('Arad', 'Timisoara', 118)\n",
        "\n",
        "graph_model.add_edge('Sibiu', 'Rimnicu_Vilcea', 80)\n",
        "graph_model.add_edge('Sibiu', 'Fagaras', 99)\n",
        "\n",
        "graph_model.add_edge('Fagaras', 'Bucharest', 211)\n",
        "\n",
        "graph_model.add_edge('Timisoara', 'Lugoj', 111)\n",
        "\n",
        "graph_model.add_edge('Lugoj', 'Mehadia', 70)\n",
        "\n",
        "graph_model.add_edge('Mehadia', 'Drobeta', 75)\n",
        "\n",
        "graph_model.add_edge('Drobeta', 'Craiova', 120)\n",
        "\n",
        "graph_model.add_edge('Craiova', 'Rimnicu_Vilcea', 146)\n",
        "graph_model.add_edge('Craiova', 'Pitesti', 138)\n",
        "\n",
        "graph_model.add_edge('Pitesti', 'Rimnicu_Vilcea', 97)\n",
        "graph_model.add_edge('Pitesti', 'Bucharest', 101)\n",
        "\n",
        "graph_model.add_edge('Bucharest', 'Urziceni', 85)\n",
        "\n",
        "graph_model.add_edge('Urziceni', 'Hirsova', 98)\n",
        "graph_model.add_edge('Urziceni', 'Vaslui', 142)\n",
        "\n",
        "graph_model.add_edge('Vaslui', 'Iasi', 92)\n",
        "\n",
        "graph_model.add_edge('Iasi', 'Neamt', 87)\n",
        "\n",
        "graph_model.add_edge('Hirsova', 'Eforie', 86)\n",
        "graph_model.add_edge('Giurgiu', 'Bucharest', 90)\n",
        "\n",
        "\n",
        "print(graph_model.visualize_graph())\n",
        "\n"
      ]
    },
    {
      "cell_type": "markdown",
      "metadata": {
        "id": "SAYBxnm6uBkU"
      },
      "source": [
        "The `calculateDegreeCentrality` function computes the degree centrality of each node in a graph represented by `graph_model`, and saves the results to a file named \"degree_centrality.txt\". The degree centrality of a node is calculated as its degree divided by the total number of nodes minus one. The `saveDegreeCentrality` function writes the centrality values to the file.\n"
      ]
    },
    {
      "cell_type": "code",
      "execution_count": null,
      "metadata": {
        "id": "KOIX8v3HuEmD"
      },
      "outputs": [
        {
          "name": "stdout",
          "output_type": "stream",
          "text": [
            "Degree Centralities of every node are \n",
            " {'Oradea': 0.10526315789473684, 'Zerind': 0.10526315789473684, 'Arad': 0.15789473684210525, 'Timisoara': 0.10526315789473684, 'Lugoj': 0.10526315789473684, 'Mehadia': 0.10526315789473684, 'Drobeta': 0.10526315789473684, 'Craiova': 0.15789473684210525, 'Sibiu': 0.21052631578947367, 'Rimnicu_Vilcea': 0.15789473684210525, 'Fagaras': 0.10526315789473684, 'Pitesti': 0.15789473684210525, 'Giurgiu': 0.05263157894736842, 'Bucharest': 0.21052631578947367, 'Urziceni': 0.15789473684210525, 'Eforie': 0.05263157894736842, 'Hirsova': 0.10526315789473684, 'Vaslui': 0.10526315789473684, 'Iasi': 0.10526315789473684, 'Neamt': 0.05263157894736842}\n"
          ]
        }
      ],
      "source": [
        "def calculateDegreeCentrality(graph_model):\n",
        "    graph = graph_model.getGraphAsDictionary()\n",
        "    degreeCentrality  = {}\n",
        "    for node in graph:\n",
        "        degree = len(graph[node])\n",
        "        val = degreeCentrality.get(node,0)\n",
        "        degreeCentrality[node] = degree / (len(graph)-1)\n",
        "    print(\"Degree Centralities of every node are \\n\",degreeCentrality)\n",
        "    saveDegreeCentrality(degreeCentrality)\n",
        "\n",
        "def saveDegreeCentrality(centrality):\n",
        "    file_path = \"degree_centrality.txt\"\n",
        "    with open(file_path, \"w\") as file:\n",
        "        for key, value in centrality.items():\n",
        "            file.write(f\"{key}: {value}\\n\")\n",
        "\n",
        "calculateDegreeCentrality(graph_model)\n"
      ]
    },
    {
      "cell_type": "markdown",
      "metadata": {
        "id": "JNjvBLZpuGZE"
      },
      "source": [
        "The code iterates over each node in the graph and its neighbors. For each neighbor, it extracts the neighbor's ID and weight from the adjacency list representation and appends a tuple containing the source node, target node, and weight of the edge to the `edgeList`. The resulting `edgeList` represents all the edges in the graph.\n"
      ]
    },
    {
      "cell_type": "code",
      "execution_count": null,
      "metadata": {},
      "outputs": [
        {
          "name": "stdout",
          "output_type": "stream",
          "text": [
            "[('Oradea', 'Sibiu', 151), ('Oradea', 'Zerind', 71), ('Zerind', 'Oradea', 71), ('Zerind', 'Arad', 75), ('Arad', 'Timisoara', 118), ('Arad', 'Sibiu', 140), ('Arad', 'Zerind', 75), ('Timisoara', 'Arad', 118), ('Timisoara', 'Lugoj', 111), ('Lugoj', 'Timisoara', 111), ('Lugoj', 'Mehadia', 70), ('Mehadia', 'Lugoj', 70), ('Mehadia', 'Drobeta', 75), ('Drobeta', 'Craiova', 120), ('Drobeta', 'Mehadia', 75), ('Craiova', 'Rimnicu_Vilcea', 146), ('Craiova', 'Pitesti', 138), ('Craiova', 'Drobeta', 120), ('Sibiu', 'Fagaras', 99), ('Sibiu', 'Rimnicu_Vilcea', 80), ('Sibiu', 'Oradea', 151), ('Sibiu', 'Arad', 140), ('Rimnicu_Vilcea', 'Pitesti', 97), ('Rimnicu_Vilcea', 'Craiova', 146), ('Rimnicu_Vilcea', 'Sibiu', 80), ('Fagaras', 'Sibiu', 99), ('Fagaras', 'Bucharest', 211), ('Pitesti', 'Bucharest', 101), ('Pitesti', 'Craiova', 138), ('Pitesti', 'Rimnicu_Vilcea', 97), ('Giurgiu', 'Bucharest', 90), ('Bucharest', 'Urziceni', 85), ('Bucharest', 'Pitesti', 101), ('Bucharest', 'Fagaras', 211), ('Bucharest', 'Giurgiu', 90), ('Urziceni', 'Hirsova', 98), ('Urziceni', 'Bucharest', 85), ('Urziceni', 'Vaslui', 142), ('Eforie', 'Hirsova', 86), ('Hirsova', 'Eforie', 86), ('Hirsova', 'Urziceni', 98), ('Vaslui', 'Iasi', 92), ('Vaslui', 'Urziceni', 142), ('Iasi', 'Neamt', 87), ('Iasi', 'Vaslui', 92), ('Neamt', 'Iasi', 87)]\n"
          ]
        }
      ],
      "source": [
        "edgeList =[]\n",
        "graph = graph_model.getGraphAsDictionary()\n",
        "for node in graph:\n",
        "    for nb in graph[node]:\n",
        "        nb, wt = nb\n",
        "        edgeList.append((node,nb,wt))\n",
        "print(edgeList)"
      ]
    },
    {
      "cell_type": "markdown",
      "metadata": {},
      "source": [
        "1. **Import Libraries**: The code imports necessary libraries such as `deque` from collections, `heapq`, and `defaultdict`.\n",
        "\n",
        "2. **City Reader Function**: The `city_reader(file_path)` function reads city names from a file and returns a list of city names.\n",
        "\n",
        "3. **Initialize Graph**: The code initializes the `graph` variable with the adjacency list representation obtained from `graph_model`.\n",
        "\n",
        "4. **Dijkstra's Algorithm Function**: The `dijkstra(graph, source)` function computes the shortest paths from a given source node to all other nodes in the graph using Dijkstra's algorithm. The function returns the sum of distances to all other nodes from the source node.\n",
        "\n",
        "5. **Initialize Variables**: It initializes an empty dictionary `closeness_centralities` to store the closeness centrality values for each node.\n",
        "\n",
        "6. **Save Closeness Centrality Function**: The `saveClosenessCentrality(centrality)` function writes the closeness centrality values to a file named \"closeness_centrality.txt\".\n",
        "\n",
        "7. **Compute Closeness Centrality Function**: The main function `closeness_centrality()` computes the closeness centrality for each node in the graph. It iterates over each node, calculates the sum of distances using Dijkstra's algorithm, and computes the closeness centrality using the formula (total number of nodes / sum of distances) * 100.\n",
        "\n",
        "8. **Compute and Save Closeness Centrality**: It calls the `closeness_centrality()` function to compute the closeness centrality values for each node in the graph and saves the results to a file.\n",
        "\n",
        "9. **Print Results**: Finally, it prints the closeness centrality values for each node.\n"
      ]
    },
    {
      "cell_type": "code",
      "execution_count": null,
      "metadata": {},
      "outputs": [
        {
          "name": "stdout",
          "output_type": "stream",
          "text": [
            "defaultdict(<class 'int'>, {'Oradea': 0.24551927326295114, 'Zerind': 0.2313208420078649, 'Arad': 0.26860059092130006, 'Timisoara': 0.2284669865204478, 'Lugoj': 0.2282844424152494, 'Mehadia': 0.2408187838651415, 'Drobeta': 0.2603488674824264, 'Craiova': 0.3093102381688834, 'Sibiu': 0.31821797931583135, 'Rimnicu_Vilcea': 0.34680076296167855, 'Fagaras': 0.2967799376762131, 'Pitesti': 0.36094567767550984, 'Giurgiu': 0.27030679821597514, 'Bucharest': 0.3460806367883717, 'Urziceni': 0.3096454559529339, 'Eforie': 0.20887728459530025, 'Hirsova': 0.24915908807773765, 'Vaslui': 0.23677045104770925, 'Iasi': 0.20163322915616494, 'Neamt': 0.174140182847192})\n"
          ]
        }
      ],
      "source": [
        "from collections import deque\n",
        "graph = graph_model.getGraphAsDictionary()\n",
        "\n",
        "def city_reader(file_path):\n",
        "    cities = []\n",
        "    with open(file_path, 'r') as file:\n",
        "        for line in file:\n",
        "            parts_arr = line.strip().split()\n",
        "            city_name = parts_arr[0].split(\":\")[0]\n",
        "            cities.append(city_name)\n",
        "    return cities\n",
        "\n",
        "cities = city_reader('Romania_cities.txt')\n",
        "import heapq\n",
        "def dijkstra(graph, source):\n",
        "    distances = {node: float('inf') for node in graph}\n",
        "    distances[source] = 0\n",
        "    pq = [(0, source)] \n",
        "    while pq:\n",
        "        current_distance, current_node = heapq.heappop(pq)\n",
        "        if current_distance > distances[current_node]:\n",
        "            continue\n",
        "        for neighbor, weight in graph[current_node]:\n",
        "            new_distance = current_distance + weight\n",
        "            if new_distance < distances[neighbor]:\n",
        "                distances[neighbor] = new_distance\n",
        "                heapq.heappush(pq, (new_distance, neighbor))\n",
        "    sum_of_distances = 0\n",
        "    for node in distances:\n",
        "        sum_of_distances += distances[node]\n",
        "    return sum_of_distances\n",
        "\n",
        "closeness_centralities = defaultdict(int)\n",
        "total = len(graph) \n",
        "def saveClosenessCentrality(centrality):\n",
        "    file_path = \"closeness_centrality.txt\"\n",
        "    with open(file_path, \"w\") as file:\n",
        "        for key, value in centrality.items():\n",
        "            file.write(f\"{key}: {value}\\n\")\n",
        "\n",
        "def closeness_centrality():\n",
        "    for node in graph:\n",
        "       short_paths = dijkstra(graph,node)\n",
        "       closeness_centralities[node] = (total / short_paths) * 100\n",
        "    saveClosenessCentrality(closeness_centralities)\n",
        "    \n",
        "closeness_centrality()\n",
        "print(closeness_centralities)\n"
      ]
    },
    {
      "cell_type": "markdown",
      "metadata": {},
      "source": [
        "1. **Initialize Adjacency Matrix**: The code initializes an empty adjacency matrix `adjacency_matrix` with dimensions equal to the number of cities (nodes) in the graph.\n",
        "\n",
        "2. **Initialize Graph**: It initializes the `graph` variable with the adjacency list representation obtained from `graph_model`.\n",
        "\n",
        "3. **Iterate Over Nodes and Neighbors**: The code iterates over each node in the graph and its neighbors.\n",
        "\n",
        "4. **Extract Neighbor Information**: For each neighbor, it extracts the neighbor's ID and weight from the adjacency list representation.\n",
        "\n",
        "5. **Update Adjacency Matrix**: It finds the indices of the nodes in the `cities` list (which contains the city names) and updates the corresponding entry in the adjacency matrix with the weight of the edge.\n",
        "\n",
        "\n"
      ]
    },
    {
      "cell_type": "code",
      "execution_count": null,
      "metadata": {},
      "outputs": [],
      "source": [
        "adjecency_matrix = [[0]* len(cities) for _ in range(len(cities))]\n",
        "graph = graph_model.getGraphAsDictionary()\n",
        "for node in graph:\n",
        "    for nb,wt in graph[node]:\n",
        "        fromInd = cities.index(node)\n",
        "        toInd = cities.index(nb)\n",
        "        adjecency_matrix[toInd][fromInd] = wt"
      ]
    },
    {
      "cell_type": "markdown",
      "metadata": {},
      "source": [
        "1. **Import NumPy**: The code imports the NumPy library for numerical computations.\n",
        "\n",
        "2. **Define eigenvalue_centrality Function**: This function calculates the eigenvalue centrality of a graph given its adjacency matrix. It uses NumPy's `linalg.eig()` function to compute the eigenvalues and eigenvectors of the adjacency matrix. Then, it finds the largest eigenvalue and its corresponding eigenvector, normalizes the eigenvector, and further scales it to ensure the sum of centrality scores is equal to the number of nodes.\n",
        "\n",
        "3. **Compute Eigenvalue Centrality**: The code calculates the eigenvalue centrality scores for each city using the `eigenvalue_centrality` function and stores the results in the `centrality_scores` variable.\n",
        "\n",
        "4. **Store Centrality Scores in a Dictionary**: It iterates over the centrality scores and stores them in a dictionary `eigenvalue_centralities`, with city names as keys and centrality scores as values.\n",
        "\n",
        "5. **Save Centrality Scores to File**: The `saveEigenValueCentrality` function writes the eigenvalue centrality scores to a file named \"Eigen_Value.txt\".\n",
        "\n",
        "6. **Print Centrality Scores**: Finally, it prints the eigenvalue centrality scores for each city.\n",
        "\n",
        "This process calculates and saves the eigenvalue centrality scores for each city in the graph, providing a measure of their importance in the network.\n"
      ]
    },
    {
      "cell_type": "code",
      "execution_count": null,
      "metadata": {},
      "outputs": [
        {
          "name": "stdout",
          "output_type": "stream",
          "text": [
            "defaultdict(<class 'float'>, {'Oradea': 0.21055447586901146, 'Zerind': 0.09685384887367443, 'Arad': 0.23168718702171712, 'Timisoara': 0.09562903151505257, 'Lugoj': 0.04124346063442386, 'Mehadia': 0.0450082933671174, 'Drobeta': 0.1617988006531888, 'Craiova': 0.4218857438429952, 'Sibiu': 0.41985407381217754, 'Rimnicu_Vilcea': 0.41365126794512624, 'Fagaras': 0.43240722967366035, 'Pitesti': 0.4420253441662707, 'Giurgiu': 0.13131889220008422, 'Bucharest': 0.48698830723417524, 'Urziceni': 0.17453955317959852, 'Eforie': 0.014144484224855034, 'Hirsova': 0.05489369907777792, 'Vaslui': 0.08084980111171357, 'Iasi': 0.02391070504008019, 'Neamt': 0.006232722653182447})\n"
          ]
        }
      ],
      "source": [
        "import numpy as np # type: ignore\n",
        "\n",
        "def eigenvalue_centrality(adjacency_matrix):\n",
        "    eigenvalues, eigenvectors = np.linalg.eig(adjacency_matrix)\n",
        "    max_index = np.argmax(eigenvalues)\n",
        "    largest_eigenvector = eigenvectors[:,max_index]\n",
        "    normalized_eigenvector = largest_eigenvector / np.sum(largest_eigenvector)\n",
        "    for i in range(len(normalized_eigenvector)):\n",
        "        normalized_eigenvector[i] /= 0.250911\n",
        "\n",
        "    return normalized_eigenvector\n",
        "\n",
        "centrality_scores = eigenvalue_centrality(adjecency_matrix)\n",
        "eigenvalue_centralities = defaultdict(float)\n",
        "for i in range(len(cities)):\n",
        "    eigenvalue_centralities[cities[i]] = centrality_scores[i]\n",
        "def saveEigenValueCentrality(centrality):\n",
        "    file_path = \"Eigen_Value.txt\"\n",
        "    with open(file_path, \"w\") as file:\n",
        "        for key, value in centrality.items():\n",
        "            file.write(f\"{key}: {value}\\n\")\n",
        "saveEigenValueCentrality(eigenvalue_centralities)\n",
        "print(eigenvalue_centralities)\n",
        "\n"
      ]
    },
    {
      "cell_type": "markdown",
      "metadata": {},
      "source": [
        "1. **Define katzCentrality Function**: This function calculates the Katz centrality for a given node (`incomingNode`) in the graph. It initializes a constant (`const`) and the number of nodes (`num_nodes`). Then, it constructs the adjacency matrix by setting entries to 1 if there is a connection between nodes. Next, it initializes the centrality scores for each node and iteratively updates them based on the Katz centrality formula. The centrality score for the incoming node is then divided by the constant to normalize the result.\n",
        "\n",
        "2. **Compute Katz Centrality Scores**: The code computes the Katz centrality scores for each city in the graph by iterating over all cities and calculating their centrality using the `katzCentrality` function. The results are stored in the `katzCentralities` dictionary.\n",
        "\n",
        "3. **Save Katz Centrality Scores to File**: The `saveKatzCentrality` function writes the Katz centrality scores to a file named \"Katz_centrality.txt\".\n",
        "\n",
        "4. **Print Katz Centrality Scores**: Finally, it prints the Katz centrality scores for each city.\n",
        "\n",
        "This process computes and saves the Katz centrality scores for each city in the graph, providing a measure of their importance in the network.\n"
      ]
    },
    {
      "cell_type": "code",
      "execution_count": null,
      "metadata": {},
      "outputs": [
        {
          "name": "stdout",
          "output_type": "stream",
          "text": [
            "defaultdict(<class 'float'>, {'Oradea': 0.21753014378027008, 'Zerind': 0.21543465850975843, 'Arad': 0.23902357204953087, 'Timisoara': 0.21493428269313933, 'Lugoj': 0.21252638561342735, 'Mehadia': 0.21253670417209475, 'Drobeta': 0.2150477868386397, 'Craiova': 0.2401482949463839, 'Sibiu': 0.2620739100256848, 'Rimnicu_Vilcea': 0.24442339705421873, 'Fagaras': 0.22196911810834358, 'Pitesti': 0.2442188963056646, 'Giurgiu': 0.1957617271059682, 'Bucharest': 0.25982440179139976, 'Urziceni': 0.23850140712876908, 'Eforie': 0.19105275726357276, 'Hirsova': 0.2127347033661295, 'Vaslui': 0.21466209686258925, 'Iasi': 0.21032669222819253, 'Neamt': 0.19081195614979904})\n"
          ]
        }
      ],
      "source": [
        "def katzCentrality(incomingNode: str):\n",
        "        const = 5.89\n",
        "        num_nodes = len(cities)\n",
        "        for node in graph:\n",
        "            for nb,wt in graph[node]:\n",
        "                fromInd = cities.index(node)\n",
        "                toInd = cities.index(nb)\n",
        "                adjecency_matrix[toInd][fromInd] = 1\n",
        "        centrality = [1.0] * num_nodes\n",
        "        for _ in range(num_nodes):\n",
        "            new_centrality = [1.0] * num_nodes\n",
        "            for i in range(num_nodes):\n",
        "                for j in range(num_nodes):\n",
        "                    new_centrality[i] += 0.1 * \\\n",
        "                                         adjecency_matrix[i][j] * centrality[j]\n",
        "            centrality = new_centrality\n",
        "        return centrality[cities.index(incomingNode)]/const\n",
        "katzCentralities = defaultdict(float)\n",
        "for city in cities:\n",
        "     katzCentralities[city] = katzCentrality(city)\n",
        "\n",
        "def saveKatzCentrality(centrality):\n",
        "    file_path = \"Katz_centrality.txt\"\n",
        "    with open(file_path, \"w\") as file:\n",
        "        for key, value in centrality.items():\n",
        "            file.write(f\"{key}: {value}\\n\")\n",
        "saveKatzCentrality(katzCentralities)\n",
        "print(katzCentralities)\n"
      ]
    },
    {
      "cell_type": "markdown",
      "metadata": {},
      "source": [
        "1. **Define pagerankCentrality Function**: This function calculates the PageRank centrality for a given node (`theNode`) in the graph. It initializes the adjacency matrix, the number of nodes (`num_nodes`), and the out-degree for each node. Then, it constructs the adjacency matrix by setting entries to 1 if there is a connection between nodes. Next, it initializes the PageRank scores for each node and iteratively updates them based on the PageRank algorithm for a certain number of iterations. The PageRank score for the given node is then returned.\n",
        "\n",
        "2. **Compute PageRank Centrality Scores**: The code computes the PageRank centrality scores for each city in the graph by iterating over all cities and calculating their centrality using the `pagerankCentrality` function. The results are stored in the `pageRankCentralities` dictionary.\n",
        "\n",
        "3. **Save PageRank Centrality Scores to File**: The `savePageRankCentrality` function writes the PageRank centrality scores to a file named \"Page_rank_centrality.txt\".\n",
        "\n",
        "4. **Print PageRank Centrality Scores**: Finally, it prints the PageRank centrality scores for each city.\n",
        "\n",
        "This process computes and saves the PageRank centrality scores for each city in the graph, providing a measure of their importance in the network.\n"
      ]
    },
    {
      "cell_type": "code",
      "execution_count": null,
      "metadata": {},
      "outputs": [
        {
          "name": "stdout",
          "output_type": "stream",
          "text": [
            "defaultdict(<class 'float'>, {'Oradea': 0.04160308188628339, 'Zerind': 0.04160655866646679, 'Arad': 0.06030853823283484, 'Timisoara': 0.04337065934995684, 'Lugoj': 0.04543479548336312, 'Mehadia': 0.04472931461168319, 'Drobeta': 0.043139951416375825, 'Craiova': 0.05736457912700107, 'Sibiu': 0.07440602462507534, 'Rimnicu_Vilcea': 0.05599653468891833, 'Fagaras': 0.04110920577404339, 'Pitesti': 0.057165322771748725, 'Giurgiu': 0.025010852128605182, 'Bucharest': 0.0805771846578347, 'Urziceni': 0.06907861269431102, 'Eforie': 0.030042617385799296, 'Hirsova': 0.051729050585617525, 'Vaslui': 0.05063609195940754, 'Iasi': 0.05531450593437927, 'Neamt': 0.03137651802029457})\n"
          ]
        }
      ],
      "source": [
        "def pagerankCentrality( theNode: str):\n",
        "        num_nodes = len(cities)\n",
        "        adjecency_matrix = [[0] * num_nodes for _ in range(num_nodes)]\n",
        "        num_nodes = len(cities)\n",
        "        for node in graph:\n",
        "            for nb,wt in graph[node]:\n",
        "                fromInd = cities.index(node)\n",
        "                toInd = cities.index(nb)\n",
        "                adjecency_matrix[toInd][fromInd] = 1\n",
        "        out_degree = [sum(row) for row in adjecency_matrix]\n",
        "        pagerank = [1 / num_nodes] * num_nodes\n",
        "        for _ in range(10):\n",
        "            new_pagerank = [0] * num_nodes\n",
        "            for i in range(num_nodes):\n",
        "                for j in range(num_nodes):\n",
        "                    if out_degree[j] > 0:\n",
        "                        new_pagerank[i] += 0.85 * adjecency_matrix[j][i] * \\\n",
        "                                           pagerank[j] / out_degree[j]\n",
        "                new_pagerank[i] += 0.15 / num_nodes\n",
        "            pagerank = new_pagerank\n",
        "        return pagerank[cities.index(theNode)]\n",
        "\n",
        "pageRankCentralities = defaultdict(float)\n",
        "for city in cities:\n",
        "     pageRankCentralities[city] = pagerankCentrality(city)\n",
        "\n",
        "def savePageRankCentrality(centrality):\n",
        "    file_path = \"Page_rank_centrality.txt\"\n",
        "    with open(file_path, \"w\") as file:\n",
        "        for key, value in centrality.items():\n",
        "            file.write(f\"{key}: {value}\\n\")\n",
        "savePageRankCentrality(pageRankCentralities)\n",
        "print(pageRankCentralities)\n",
        "\n",
        "\n",
        "\n",
        "\n"
      ]
    },
    {
      "cell_type": "markdown",
      "metadata": {},
      "source": [
        "1. **Create Graph**: The code creates an undirected graph `G` using NetworkX and adds weighted edges from the `edgeList`.\n",
        "\n",
        "2. **Compute Shortest Paths**: It computes all shortest paths between every pair of nodes in the graph using Dijkstra's algorithm and stores them in `allShortestPaths`.\n",
        "\n",
        "3. **Extract Paths List**: It constructs a list `allPahtsList` containing all shortest paths between all pairs of nodes.\n",
        "\n",
        "4. **Compute Betweenness Centrality**: It iterates over each city in `cities` and counts how many times the city appears in the middle of the shortest paths. Then, it calculates the unnormalized and normalized betweenness centrality for each city using the formula. Finally, it stores the betweenness centrality scores for each city in the `betwenessCentrality` dictionary.\n",
        "\n",
        "5. **Save Betweenness Centrality Scores to File**: The `savebetwenessCentrality` function writes the betweenness centrality scores to a file named \"Betweness_centrality.txt\".\n",
        "\n",
        "6. **Print Betweenness Centrality Scores**: Finally, it prints the betweenness centrality scores for each city.\n",
        "\n",
        "This process computes and saves the betweenness centrality scores for each city in the graph, providing a measure of their importance in facilitating communication between other nodes.\n"
      ]
    },
    {
      "cell_type": "code",
      "execution_count": null,
      "metadata": {},
      "outputs": [
        {
          "name": "stdout",
          "output_type": "stream",
          "text": [
            "defaultdict(<class 'float'>, {'Oradea': 0.0, 'Zerind': 0.01969387755102041, 'Arad': 0.19765060240963855, 'Timisoara': 0.05078947368421052, 'Lugoj': 0.04020833333333334, 'Mehadia': 0.08391304347826087, 'Drobeta': 0.13785714285714284, 'Craiova': 0.20469696969696968, 'Sibiu': 0.3569178082191781, 'Rimnicu_Vilcea': 0.3752777777777778, 'Fagaras': 0.0, 'Pitesti': 0.6433333333333334, 'Giurgiu': 0.0, 'Bucharest': 0.7895454545454547, 'Urziceni': 0.5914516129032258, 'Eforie': 0.0, 'Hirsova': 0.09543956043956044, 'Vaslui': 0.19765060240963855, 'Iasi': 0.09543956043956044, 'Neamt': 0.0})\n"
          ]
        }
      ],
      "source": [
        "import networkx as nx\n",
        "G = nx.Graph()\n",
        "G.add_weighted_edges_from(edgeList)\n",
        "allPahtsList =  []\n",
        "CONST = 386\n",
        "allShortestPaths = dict(nx.all_pairs_dijkstra_path(G))\n",
        "\n",
        "for source in allShortestPaths:\n",
        "    for destination in allShortestPaths:\n",
        "        allPahtsList.append(allShortestPaths[source][destination])\n",
        "\n",
        "allShortestNodes = len(allPahtsList)\n",
        "betwenessCentrality =  defaultdict(float)\n",
        "for city in cities:\n",
        "    cityInPathCount = 0\n",
        "    for path in allPahtsList:\n",
        "        if city in path and not (path[0] == city or path[-1] == city):\n",
        "            cityInPathCount += 1\n",
        "    unnormal = cityInPathCount / allShortestNodes\n",
        "    normalized = (unnormal / (allShortestNodes - cityInPathCount)) * CONST\n",
        "    betwenessCentrality[city] = normalized  \n",
        "\n",
        "\n",
        "def savebetwenessCentrality(centrality):\n",
        "    file_path = \"Betweness_centrality.txt\"\n",
        "    with open(file_path, \"w\") as file:\n",
        "        for key, value in centrality.items():\n",
        "            file.write(f\"{key}: {value}\\n\")\n",
        "savebetwenessCentrality(betwenessCentrality)\n",
        "print(betwenessCentrality)\n"
      ]
    }
  ],
  "metadata": {
    "colab": {
      "provenance": []
    },
    "kernelspec": {
      "display_name": "Python 3",
      "name": "python3"
    },
    "language_info": {
      "codemirror_mode": {
        "name": "ipython",
        "version": 3
      },
      "file_extension": ".py",
      "mimetype": "text/x-python",
      "name": "python",
      "nbconvert_exporter": "python",
      "pygments_lexer": "ipython3",
      "version": "3.10.12"
    }
  },
  "nbformat": 4,
  "nbformat_minor": 0
}
