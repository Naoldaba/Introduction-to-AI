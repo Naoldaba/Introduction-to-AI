{
 "cells": [
  {
   "cell_type": "code",
   "execution_count": 2,
   "metadata": {},
   "outputs": [
    {
     "name": "stdout",
     "output_type": "stream",
     "text": [
      "[0, 0, 0, 4]\n",
      "[0, 0, 0, 0]\n",
      "[0, 0, 0, 1]\n",
      "[4, 0, 1, 0]\n"
     ]
    }
   ],
   "source": [
    "class AdjacencyMatrixGraph:\n",
    "    def __init__(self, directed=False):\n",
    "        self.directed = directed\n",
    "        self.graph = []\n",
    "\n",
    "    def add_edge(self, start_node, end_node, weight=0):\n",
    "        max_node = max(start_node, end_node)\n",
    "        if max_node >= len(self.graph):\n",
    "            self._resize_graph(max_node + 1)\n",
    "        self.graph[start_node][end_node] = weight\n",
    "        if not self.directed:\n",
    "            self.graph[end_node][start_node] = weight\n",
    "\n",
    "    def remove_edge(self, start_node, end_node):\n",
    "        if start_node < len(self.graph) and end_node < len(self.graph):\n",
    "            self.graph[start_node][end_node] = 0\n",
    "            if not self.directed:\n",
    "                self.graph[end_node][start_node] = 0\n",
    "\n",
    "    def add_node(self):\n",
    "        new_node_index = len(self.graph)\n",
    "        for row in self.graph:\n",
    "            row.append(0)\n",
    "        self.graph.append([0] * (new_node_index + 1))\n",
    "\n",
    "    def remove_node(self, node):\n",
    "        if node < len(self.graph):\n",
    "            del self.graph[node]\n",
    "            for row in self.graph:\n",
    "                del row[node]\n",
    "\n",
    "    def check_existance(self, node):\n",
    "        return node < len(self.graph)\n",
    "\n",
    "    def find_neighbours(self, node):\n",
    "        if node < len(self.graph):\n",
    "            return [index for index, weight in enumerate(self.graph[node]) if weight > 0]\n",
    "        return []\n",
    "\n",
    "    def visualize_graph(self):\n",
    "        for row in self.graph:\n",
    "            print(row)\n",
    "\n",
    "    def _resize_graph(self, new_size):\n",
    "        current_size = len(self.graph)\n",
    "        for row in self.graph:\n",
    "            row.extend([0] * (new_size - current_size))\n",
    "        self.graph.extend([[0] * new_size for _ in range(new_size - current_size)])\n",
    "\n",
    "\n",
    "graph_model = AdjacencyMatrixGraph()\n",
    "graph_model.add_node()\n",
    "graph_model.add_node()\n",
    "\n",
    "graph_model.add_edge(0, 1, 5)\n",
    "graph_model.add_edge(1, 2, 3)\n",
    "graph_model.add_edge(2, 3, 2)\n",
    "graph_model.add_edge(3, 4, 1)\n",
    "graph_model.add_edge(4, 0, 4) \n",
    "\n",
    "graph_model.remove_edge(0, 1)\n",
    "graph_model.remove_node(2)\n",
    "\n",
    "graph_model.visualize_graph()\n",
    "\n",
    "\n"
   ]
  }
 ],
 "metadata": {
  "kernelspec": {
   "display_name": "Python 3",
   "language": "python",
   "name": "python3"
  },
  "language_info": {
   "codemirror_mode": {
    "name": "ipython",
    "version": 3
   },
   "file_extension": ".py",
   "mimetype": "text/x-python",
   "name": "python",
   "nbconvert_exporter": "python",
   "pygments_lexer": "ipython3",
   "version": "3.11.3"
  }
 },
 "nbformat": 4,
 "nbformat_minor": 2
}
