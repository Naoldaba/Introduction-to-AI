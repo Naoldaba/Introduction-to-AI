{
 "cells": [
  {
   "cell_type": "code",
   "execution_count": 1,
   "metadata": {},
   "outputs": [
    {
     "name": "stdout",
     "output_type": "stream",
     "text": [
      "(3, 4, 1)\n",
      "(4, 3, 1)\n",
      "(4, 0, 4)\n",
      "(0, 4, 4)\n"
     ]
    }
   ],
   "source": [
    "class EdgeListGraph:\n",
    "    def __init__(self, directed=False):\n",
    "        self.directed = directed\n",
    "        self.edges = []\n",
    "\n",
    "    def add_edge(self, start_node, end_node, weight=0):\n",
    "        self.edges.append((start_node, end_node, weight))\n",
    "        if not self.directed:\n",
    "            self.edges.append((end_node, start_node, weight))\n",
    "\n",
    "    def remove_edge(self, start_node, end_node):\n",
    "        self.edges = [(s, e, w) for s, e, w in self.edges if (s, e) != (start_node, end_node)]\n",
    "        if not self.directed:\n",
    "            self.edges = [(s, e, w) for s, e, w in self.edges if (s, e) != (end_node, start_node)]\n",
    "\n",
    "    def remove_node(self, node):\n",
    "        self.edges = [(s, e, w) for s, e, w in self.edges if s != node and e != node]\n",
    "\n",
    "    def check_existance(self, node):\n",
    "        return any(node in (s, e) for s, e, _ in self.edges)\n",
    "\n",
    "    def find_neighbours(self, node):\n",
    "        neighbours = set()\n",
    "        for s, e, _ in self.edges:\n",
    "            if s == node:\n",
    "                neighbours.add(e)\n",
    "            elif not self.directed and e == node:\n",
    "                neighbours.add(s)\n",
    "        return list(neighbours)\n",
    "\n",
    "    def visualize_graph(self):\n",
    "        for edge in self.edges:\n",
    "            print(edge)\n",
    "\n",
    "\n",
    "graph_model = EdgeListGraph()\n",
    "graph_model.add_edge(0, 1, 5)\n",
    "graph_model.add_edge(1, 2, 3)\n",
    "graph_model.add_edge(2, 3, 2)\n",
    "graph_model.add_edge(3, 4, 1)\n",
    "graph_model.add_edge(4, 0, 4)  \n",
    "\n",
    "graph_model.remove_edge(0, 1)\n",
    "graph_model.remove_node(2)\n",
    "\n",
    "graph_model.visualize_graph()\n",
    "\n"
   ]
  },
  {
   "cell_type": "markdown",
   "metadata": {},
   "source": []
  }
 ],
 "metadata": {
  "kernelspec": {
   "display_name": "Python 3",
   "language": "python",
   "name": "python3"
  },
  "language_info": {
   "codemirror_mode": {
    "name": "ipython",
    "version": 3
   },
   "file_extension": ".py",
   "mimetype": "text/x-python",
   "name": "python",
   "nbconvert_exporter": "python",
   "pygments_lexer": "ipython3",
   "version": "3.11.3"
  }
 },
 "nbformat": 4,
 "nbformat_minor": 2
}
