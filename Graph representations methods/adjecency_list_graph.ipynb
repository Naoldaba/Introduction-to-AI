{
 "cells": [
  {
   "cell_type": "code",
   "execution_count": 9,
   "metadata": {},
   "outputs": [
    {
     "data": {
      "text/plain": [
       "defaultdict(set, {'A': {'C'}, 'B': {'C'}, 'C': {'A', 'B'}})"
      ]
     },
     "execution_count": 9,
     "metadata": {},
     "output_type": "execute_result"
    }
   ],
   "source": [
    "from collections import defaultdict\n",
    "\n",
    "class AdjecencyListGraph:\n",
    "    def __init__(self, directed=False):\n",
    "        self.graph=defaultdict(set)\n",
    "        self.directed=directed\n",
    "    \n",
    "    def add_node(self, node):\n",
    "        if node not in self.graph:\n",
    "            self.graph[node]=set()\n",
    "        else:\n",
    "            return 'Node already in the graph'\n",
    "\n",
    "    def add_edge(self, start_node, end_node, weight=0):\n",
    "        if self.directed:\n",
    "            self.graph[start_node].add(end_node)\n",
    "\n",
    "        else:\n",
    "            self.graph[start_node].add(end_node)\n",
    "            self.graph[end_node].add(start_node)\n",
    "\n",
    "    def remove_node(self, node):\n",
    "        if node in self.graph:\n",
    "            del self.graph[node]\n",
    "            for vertex in self.graph:\n",
    "                new_neigbour=[]\n",
    "                for neighbour in self.graph[vertex]:\n",
    "                    if neighbour==node:\n",
    "                        continue\n",
    "                    else:\n",
    "                        new_neigbour.append(neighbour)\n",
    "                self.graph[vertex]=new_neigbour\n",
    "            return \"Node successfully deleted\"\n",
    "\n",
    "        return \"Node not found\"\n",
    "\n",
    "    def remove_edge(self, start, end):\n",
    "        if start not in self.graph and end not in self.graph:\n",
    "            return \"Edge not found\"\n",
    "\n",
    "        if start in self.graph:\n",
    "            if end in self.graph[start]:\n",
    "                self.graph[start].remove(end)\n",
    "                \n",
    "            else:\n",
    "                return \"No such Node\"\n",
    "        if end in self.graph:\n",
    "            if start in self.graph[end]:\n",
    "                self.graph[end].remove(start)\n",
    "            else:\n",
    "                return \"No such Node\"\n",
    "\n",
    "        return \"Edge deleted successfully\"\n",
    "    \n",
    "    def check_existance(self, node):\n",
    "        if node in self.graph:\n",
    "            return True\n",
    "        return False\n",
    "    \n",
    "    def find_neighbours(self, node):\n",
    "        if node not in self.graph:\n",
    "            return \"Node not registered\"\n",
    "        return list(self.graph[node])\n",
    "\n",
    "    def visualize_graph(self):\n",
    "        return self.graph\n",
    "\n",
    "graph_model=AdjecencyListGraph()\n",
    "graph_model.add_node('A')\n",
    "graph_model.add_node('B')\n",
    "graph_model.add_node('C')\n",
    "\n",
    "graph_model.add_edge('A', 'B')\n",
    "graph_model.add_edge('B', 'C')\n",
    "graph_model.add_edge('C', 'A')\n",
    "\n",
    "graph_model.remove_edge('A', 'B')\n",
    "\n",
    "graph_model.visualize_graph()\n"
   ]
  }
 ],
 "metadata": {
  "kernelspec": {
   "display_name": "Python 3",
   "language": "python",
   "name": "python3"
  },
  "language_info": {
   "codemirror_mode": {
    "name": "ipython",
    "version": 3
   },
   "file_extension": ".py",
   "mimetype": "text/x-python",
   "name": "python",
   "nbconvert_exporter": "python",
   "pygments_lexer": "ipython3",
   "version": "3.11.3"
  }
 },
 "nbformat": 4,
 "nbformat_minor": 2
}
